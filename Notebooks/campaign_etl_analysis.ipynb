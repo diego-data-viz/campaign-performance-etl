{
 "cells": [
  {
   "cell_type": "markdown",
   "id": "caa45b69",
   "metadata": {},
   "source": [
    "# 📊 Campaign ETL & KPI Analysis\n",
    "\n",
    "**Simulating real-world performance analysis of marketing campaigns using Python.**  \n",
    "**Author:** Diego Jimenez  \n",
    "**Date:** August 2025\n",
    "\n",
    "---\n",
    "\n",
    "### Goals:\n",
    "- Load, clean, and transform campaign data\n",
    "- Calculate KPIs like CTR, CPA, and bounce rate\n",
    "- Visualize and compare performance across channels"
   ]
  },
  {
   "cell_type": "code",
   "execution_count": null,
   "id": "e2924f58",
   "metadata": {},
   "outputs": [
    {
     "name": "stdout",
     "output_type": "stream",
     "text": [
      "Requirement already satisfied: pandas in /Users/Diego/opt/anaconda3/lib/python3.8/site-packages (1.1.3)\n",
      "Requirement already satisfied: matplotlib in /Users/Diego/opt/anaconda3/lib/python3.8/site-packages (3.3.2)\n",
      "Requirement already satisfied: seaborn in /Users/Diego/opt/anaconda3/lib/python3.8/site-packages (0.11.0)\n",
      "Requirement already satisfied: python-dateutil>=2.7.3 in /Users/Diego/opt/anaconda3/lib/python3.8/site-packages (from pandas) (2.8.1)\n",
      "Requirement already satisfied: pytz>=2017.2 in /Users/Diego/opt/anaconda3/lib/python3.8/site-packages (from pandas) (2020.1)\n",
      "Requirement already satisfied: numpy>=1.15.4 in /Users/Diego/opt/anaconda3/lib/python3.8/site-packages (from pandas) (1.19.2)\n",
      "Requirement already satisfied: certifi>=2020.06.20 in /Users/Diego/opt/anaconda3/lib/python3.8/site-packages (from matplotlib) (2020.6.20)\n",
      "Requirement already satisfied: cycler>=0.10 in /Users/Diego/opt/anaconda3/lib/python3.8/site-packages (from matplotlib) (0.10.0)\n",
      "Requirement already satisfied: pyparsing!=2.0.4,!=2.1.2,!=2.1.6,>=2.0.3 in /Users/Diego/opt/anaconda3/lib/python3.8/site-packages (from matplotlib) (2.4.7)\n",
      "Requirement already satisfied: kiwisolver>=1.0.1 in /Users/Diego/opt/anaconda3/lib/python3.8/site-packages (from matplotlib) (1.3.0)\n",
      "Requirement already satisfied: pillow>=6.2.0 in /Users/Diego/opt/anaconda3/lib/python3.8/site-packages (from matplotlib) (8.0.1)\n",
      "Requirement already satisfied: scipy>=1.0 in /Users/Diego/opt/anaconda3/lib/python3.8/site-packages (from seaborn) (1.5.2)\n",
      "Requirement already satisfied: six>=1.5 in /Users/Diego/opt/anaconda3/lib/python3.8/site-packages (from python-dateutil>=2.7.3->pandas) (1.15.0)\n"
     ]
    }
   ],
   "source": [
    "## Step 1: Install needed modules\n",
    "%pip install pandas matplotlib seaborn"
   ]
  },
  {
   "cell_type": "code",
   "execution_count": null,
   "id": "e63fefa1",
   "metadata": {},
   "outputs": [],
   "source": [
    "import pandas as pd\n",
    "import matplotlib.pyplot as plt\n",
    "import seaborn as sns"
   ]
  }
 ],
 "metadata": {
  "kernelspec": {
   "display_name": "Python 3",
   "language": "python",
   "name": "python3"
  },
  "language_info": {
   "codemirror_mode": {
    "name": "ipython",
    "version": 3
   },
   "file_extension": ".py",
   "mimetype": "text/x-python",
   "name": "python",
   "nbconvert_exporter": "python",
   "pygments_lexer": "ipython3",
   "version": "3.13.6"
  }
 },
 "nbformat": 4,
 "nbformat_minor": 5
}
